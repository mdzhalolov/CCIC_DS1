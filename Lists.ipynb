{
 "cells": [
  {
   "cell_type": "code",
   "execution_count": null,
   "id": "6e874093",
   "metadata": {},
   "outputs": [],
   "source": [
    "foods = [\"apples\",\"oranges\",\"kiwis\"]\n",
    "foods[0] = \"bananas\"\n",
    "foods[len(foods)-1] = \"melon\"\n"
   ]
  },
  {
   "cell_type": "code",
   "execution_count": 4,
   "id": "cf7996c2",
   "metadata": {},
   "outputs": [
    {
     "name": "stdout",
     "output_type": "stream",
     "text": [
      "4.2\n"
     ]
    }
   ],
   "source": [
    "students = [[\"Student\", \"Height\", \"Weight\", \"Age\"],\n",
    "            [\"Ellie\", \"4.6\", 60, 10],\n",
    "            [\"Sofia\", \"4.0\", 75, 11],\n",
    "            [\"Jesus\", \"5.0\", 80, 10],\n",
    "            [\"Jamal\", \"4.2\", 45, 10],\n",
    "            [\"Poppy\", \"5.1\", 80, 11]]\n",
    "print(students[4][1])"
   ]
  },
  {
   "cell_type": "code",
   "execution_count": null,
   "id": "0e529e3c",
   "metadata": {},
   "outputs": [],
   "source": []
  }
 ],
 "metadata": {
  "kernelspec": {
   "display_name": "Python 3 (ipykernel)",
   "language": "python",
   "name": "python3"
  },
  "language_info": {
   "codemirror_mode": {
    "name": "ipython",
    "version": 3
   },
   "file_extension": ".py",
   "mimetype": "text/x-python",
   "name": "python",
   "nbconvert_exporter": "python",
   "pygments_lexer": "ipython3",
   "version": "3.9.12"
  }
 },
 "nbformat": 4,
 "nbformat_minor": 5
}

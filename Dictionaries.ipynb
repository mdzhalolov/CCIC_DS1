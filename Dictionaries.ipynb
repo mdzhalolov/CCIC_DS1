{
 "cells": [
  {
   "cell_type": "code",
   "execution_count": null,
   "id": "dc20b66d",
   "metadata": {},
   "outputs": [],
   "source": [
    "y = input(\"Please type your day: \").lower()\n",
    "x = {\"monday\"   :[\"Wake Up\", \"Breakfast\"], \n",
    "     \"tuesday\"  :[\"Wake Up\", \"Breakfast\"], \n",
    "     \"wednesday\":[\"Wake Up\", \"Breakfast\"], \n",
    "     \"thursday\" :[\"Wake Up\", \"Breakfast\"], \n",
    "     \"friday\"   :[\"Wake Up\", \"Breakfast\"], \n",
    "     \"saturday\" :[\"Wake Up\", \"Breakfast\"], \n",
    "     \"sunday\"   :[\"Wake Up\", \"Breakfast\"]}\n",
    "print(x[y])"
   ]
  },
  {
   "cell_type": "code",
   "execution_count": null,
   "id": "aa8982a7",
   "metadata": {},
   "outputs": [],
   "source": [
    "z = {1:{\"date\":\"2001-08-01\", \"dayname\":\"Wednesday\", \"red\":50, \"green\":25, \"blue\":71},\n",
    "     2:{\"date\":\"2001-08-02\", \"dayname\":\"Thursday\" , \"red\":60, \"green\":31, \"blue\":53},\n",
    "     3:{\"date\":\"2001-08-03\", \"dayname\":\"Friday\"   , \"red\":51, \"green\":24, \"blue\":50},\n",
    "     4:{\"date\":\"2001-08-04\", \"dayname\":\"Saturday\" , \"red\":79, \"green\":21, \"blue\":69},\n",
    "     5:{\"date\":\"2001-08-05\", \"dayname\":\"Sunday\"   , \"red\":77, \"green\":39, \"blue\":57},\n",
    "     6:{\"date\":\"2001-08-06\", \"dayname\":\"Monday\"   , \"red\":93, \"green\":40, \"blue\":66},\n",
    "     7:{\"date\":\"2001-08-07\", \"dayname\":\"Tuesday\"  , \"red\":55, \"green\":32, \"blue\":63}}\n",
    "z[8]=  {\"date\":\"2001-08-08\", \"dayname\":\"Wednesday\", \"red\":87, \"green\":89, \"blue\": 1}\n",
    "z.pop(1)\n",
    "print(z)"
   ]
  }
 ],
 "metadata": {
  "kernelspec": {
   "display_name": "Python 3 (ipykernel)",
   "language": "python",
   "name": "python3"
  },
  "language_info": {
   "codemirror_mode": {
    "name": "ipython",
    "version": 3
   },
   "file_extension": ".py",
   "mimetype": "text/x-python",
   "name": "python",
   "nbconvert_exporter": "python",
   "pygments_lexer": "ipython3",
   "version": "3.9.12"
  }
 },
 "nbformat": 4,
 "nbformat_minor": 5
}

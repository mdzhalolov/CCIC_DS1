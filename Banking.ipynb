{
 "cells": [
  {
   "cell_type": "code",
   "execution_count": 1,
   "id": "aaccf540",
   "metadata": {},
   "outputs": [
    {
     "name": "stdout",
     "output_type": "stream",
     "text": [
      "594.3789583913419\n"
     ]
    }
   ],
   "source": [
    "#banking problem 1\n",
    "principal = 400\n",
    "apr = 0.02 #yearly\n",
    "time = 20 #years\n",
    "#calculations\n",
    "print(principal*((1+apr)**time))"
   ]
  },
  {
   "cell_type": "code",
   "execution_count": 2,
   "id": "d2a6869e",
   "metadata": {},
   "outputs": [
    {
     "name": "stdout",
     "output_type": "stream",
     "text": [
      "120.4\n"
     ]
    }
   ],
   "source": [
    "#banking problem 2\n",
    "cash = 140\n",
    "fee = 0.14 #fee percentage\n",
    "print((cash)-(cash*fee))"
   ]
  },
  {
   "cell_type": "code",
   "execution_count": 4,
   "id": "78e2f626",
   "metadata": {},
   "outputs": [
    {
     "name": "stdout",
     "output_type": "stream",
     "text": [
      "309.1132528181295\n"
     ]
    }
   ],
   "source": [
    "#banking problem 3\n",
    "principal = 300\n",
    "apr = (0.06/12) #monthly apr\n",
    "time = 6 #months\n",
    "#calculations\n",
    "print(principal*((1+apr)**time))"
   ]
  },
  {
   "cell_type": "code",
   "execution_count": 7,
   "id": "8b7e4db7",
   "metadata": {},
   "outputs": [
    {
     "name": "stdout",
     "output_type": "stream",
     "text": [
      "22100\n",
      "663.0\n",
      "312.0\n",
      "975.0\n",
      "0.04411764705882353\n"
     ]
    }
   ],
   "source": [
    "#banking problem 4\n",
    "total = 850*26\n",
    "cashCheck = 0.03*total #fee from cashing in checks\n",
    "mexicoFee = (120*0.1)*26 #10% fee from 120 for each payday in a year (26 paydays in a year)\n",
    "print(cashCheck+mexicoFee)\n",
    "print((cashCheck+mexicoFee)/total)"
   ]
  },
  {
   "cell_type": "code",
   "execution_count": 8,
   "id": "1d8a72c5",
   "metadata": {},
   "outputs": [
    {
     "name": "stdout",
     "output_type": "stream",
     "text": [
      "0.125\n",
      "3.25\n"
     ]
    }
   ],
   "source": [
    "#banking problem 5\n",
    "principal = 400\n",
    "fee = 50\n",
    "interest = 50/400\n",
    "print(interest)\n",
    "apr = interest*26 #2 week interest rate *26 to make it yearly.\n",
    "print(apr)"
   ]
  },
  {
   "cell_type": "code",
   "execution_count": 9,
   "id": "d616486b",
   "metadata": {},
   "outputs": [
    {
     "name": "stdout",
     "output_type": "stream",
     "text": [
      "1288.05\n",
      "1.8200000000000003\n"
     ]
    }
   ],
   "source": [
    "#banking problem 6\n",
    "principal = 1385\n",
    "interest = 0.07\n",
    "actualTotal = (principal-(principal*interest))\n",
    "print(actualTotal)\n",
    "apr = interest*26 #2 week interest rate *26 to make it yearly.\n",
    "print(apr)"
   ]
  }
 ],
 "metadata": {
  "kernelspec": {
   "display_name": "Python 3 (ipykernel)",
   "language": "python",
   "name": "python3"
  },
  "language_info": {
   "codemirror_mode": {
    "name": "ipython",
    "version": 3
   },
   "file_extension": ".py",
   "mimetype": "text/x-python",
   "name": "python",
   "nbconvert_exporter": "python",
   "pygments_lexer": "ipython3",
   "version": "3.9.12"
  }
 },
 "nbformat": 4,
 "nbformat_minor": 5
}

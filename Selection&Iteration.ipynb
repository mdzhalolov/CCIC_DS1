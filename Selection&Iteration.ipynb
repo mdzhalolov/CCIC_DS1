{
 "cells": [
  {
   "cell_type": "code",
   "execution_count": null,
   "id": "95334f4e",
   "metadata": {},
   "outputs": [],
   "source": [
    "#Challenge 1\n",
    "\n",
    "list1 = [3,2,5]\n",
    "list2 = [5,3,7,9,2]\n",
    "\n",
    "#Solution function below\n",
    "\n",
    "def inList(one,two):\n",
    "    for x in one:\n",
    "        if x not in two:\n",
    "            return False\n",
    "    return True\n",
    "\n",
    "#Solution function above\n",
    "\n",
    "print(inList(list1,list2))"
   ]
  },
  {
   "cell_type": "code",
   "execution_count": 5,
   "id": "6a905320",
   "metadata": {},
   "outputs": [
    {
     "name": "stdout",
     "output_type": "stream",
     "text": [
      "Enter number: 7\n",
      "Enter length: 6\n",
      "[7, 14, 21, 28, 35, 42]\n"
     ]
    }
   ],
   "source": [
    "#Challenge 2\n",
    "\n",
    "output = []\n",
    "number = int(input(\"Enter number: \"))\n",
    "length = int(input(\"Enter length: \"))\n",
    "\n",
    "#Solution function below\n",
    "\n",
    "def multiples(n,l):\n",
    "    for i in range(l):\n",
    "        output.append(n*(i+1))\n",
    "    print(output)\n",
    "    \n",
    "#Solution function above\n",
    "\n",
    "multiples(number,length)"
   ]
  },
  {
   "cell_type": "code",
   "execution_count": 13,
   "id": "389e2423",
   "metadata": {},
   "outputs": [
    {
     "name": "stdout",
     "output_type": "stream",
     "text": [
      "Enter Message: help me !\n",
      ".... . .-.. .--.   -- .   -.-.--"
     ]
    }
   ],
   "source": [
    "#Challenge 3\n",
    "\n",
    "char_to_dots = {\n",
    "  'A': '.-', 'B': '-...', 'C': '-.-.', 'D': '-..', 'E': '.', 'F': '..-.',\n",
    "  'G': '--.', 'H': '....', 'I': '..', 'J': '.---', 'K': '-.-', 'L': '.-..',\n",
    "  'M': '--', 'N': '-.', 'O': '---', 'P': '.--.', 'Q': '--.-', 'R': '.-.',\n",
    "  'S': '...', 'T': '-', 'U': '..-', 'V': '...-', 'W': '.--', 'X': '-..-',\n",
    "  'Y': '-.--', 'Z': '--..', ' ': ' ', '0': '-----',\n",
    "  '1': '.----', '2': '..---', '3': '...--', '4': '....-', '5': '.....',\n",
    "  '6': '-....', '7': '--...', '8': '---..', '9': '----.',\n",
    "  '&': '.-...', \"'\": '.----.', '@': '.--.-.', ')': '-.--.-', '(': '-.--.',\n",
    "  ':': '---...', ',': '--..--', '=': '-...-', '!': '-.-.--', '.': '.-.-.-',\n",
    "  '-': '-....-', '+': '.-.-.', '\"': '.-..-.', '?': '..--..', '/': '-..-.'\n",
    "}\n",
    "message = input(\"Enter Message: \").upper()\n",
    "\n",
    "#Solution function below\n",
    "\n",
    "def morse(m):\n",
    "    i = len(message)-1\n",
    "    for x in m:\n",
    "        print(char_to_dots[x], end=\"\")\n",
    "        if i!=0:\n",
    "            print(end=\" \")\n",
    "            i=i-1\n",
    "\n",
    "#Solution function above\n",
    "\n",
    "morse(message)\n",
    "\n",
    "#Could've just been:\n",
    "# for x in m:\n",
    "#        print(char_to_dots[x], end=\"\")\n",
    "#But that leaves a space at the very end, which is not allowed."
   ]
  },
  {
   "cell_type": "code",
   "execution_count": 34,
   "id": "2270696f",
   "metadata": {},
   "outputs": [
    {
     "data": {
      "text/plain": [
       "False"
      ]
     },
     "execution_count": 34,
     "metadata": {},
     "output_type": "execute_result"
    }
   ],
   "source": [
    "#Challenge 4 \n",
    "\n",
    "audience = [[1,2,3,2,1,1],\n",
    "            [2,4,4,3,2,2],\n",
    "            [5,5,5,5,4,4],\n",
    "            [6,6,7,6,5,5]]\n",
    "\n",
    "#Solution function below\n",
    "\n",
    "def view(a):\n",
    "    for y in range(len(a[0])):\n",
    "        for z in range(len(a)-1):\n",
    "             if a[z][y]>=a[z+1][y]:\n",
    "                return False\n",
    "    return True\n",
    "\n",
    "#Solution function above\n",
    "\n",
    "view(audience)"
   ]
  },
  {
   "cell_type": "code",
   "execution_count": null,
   "id": "59086629",
   "metadata": {},
   "outputs": [],
   "source": []
  }
 ],
 "metadata": {
  "kernelspec": {
   "display_name": "Python 3 (ipykernel)",
   "language": "python",
   "name": "python3"
  },
  "language_info": {
   "codemirror_mode": {
    "name": "ipython",
    "version": 3
   },
   "file_extension": ".py",
   "mimetype": "text/x-python",
   "name": "python",
   "nbconvert_exporter": "python",
   "pygments_lexer": "ipython3",
   "version": "3.9.12"
  }
 },
 "nbformat": 4,
 "nbformat_minor": 5
}

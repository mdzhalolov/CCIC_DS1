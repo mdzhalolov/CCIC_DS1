{
 "cells": [
  {
   "cell_type": "code",
   "execution_count": null,
   "id": "95334f4e",
   "metadata": {},
   "outputs": [],
   "source": [
    "#Challenge 1\n",
    "\n",
    "list1 = [3,2,5]\n",
    "list2 = [5,3,7,9,2]\n",
    "\n",
    "#Solution function below\n",
    "\n",
    "def inList(one,two):\n",
    "    for x in one:\n",
    "        if x not in two:\n",
    "            return False\n",
    "    return True\n",
    "\n",
    "#Solution function above\n",
    "\n",
    "print(inList(list1,list2))"
   ]
  },
  {
   "cell_type": "code",
   "execution_count": null,
   "id": "6a905320",
   "metadata": {},
   "outputs": [],
   "source": [
    "#Challenge 2\n",
    "\n",
    "output = []\n",
    "number = int(input(\"Enter number: \"))\n",
    "length = int(input(\"Enter length: \"))\n",
    "\n",
    "#Solution function below\n",
    "\n",
    "def multiples(n,l):\n",
    "    for i in range(l):\n",
    "        output.append(n*(i+1))\n",
    "\n",
    "#Solution function above\n",
    "\n",
    "multiples(number,length)\n",
    "print(output)"
   ]
  }
 ],
 "metadata": {
  "kernelspec": {
   "display_name": "Python 3 (ipykernel)",
   "language": "python",
   "name": "python3"
  },
  "language_info": {
   "codemirror_mode": {
    "name": "ipython",
    "version": 3
   },
   "file_extension": ".py",
   "mimetype": "text/x-python",
   "name": "python",
   "nbconvert_exporter": "python",
   "pygments_lexer": "ipython3",
   "version": "3.9.12"
  }
 },
 "nbformat": 4,
 "nbformat_minor": 5
}

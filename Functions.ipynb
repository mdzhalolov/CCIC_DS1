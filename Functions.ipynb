{
 "cells": [
  {
   "cell_type": "code",
   "execution_count": 30,
   "id": "9c0b4068",
   "metadata": {},
   "outputs": [
    {
     "name": "stdout",
     "output_type": "stream",
     "text": [
      "[[0, 0.0], [1, 0.0009560585021972656], [2, 0.00031065940856933594], [3, 0.0], [4, 0.0], [5, 0.0], [6, 0.0], [7, 0.0], [8, 0.0], [9, 0.0], [10, 0.0], [11, 0.0], [12, 0.0], [13, 0.0], [14, 0.0], [15, 0.0009980201721191406], [16, 0.0], [17, 0.0], [18, 0.0], [19, 0.0], [20, 0.0], [21, 0.0], [22, 0.0], [23, 0.0], [24, 0.0], [25, 0.0], [26, 0.0], [27, 0.0], [28, 0.0], [29, 0.0]]\n"
     ]
    }
   ],
   "source": [
    "#Challenge 5\n",
    "#Largest to Smallest\n",
    "import time\n",
    "import random\n",
    "numbers = [1,11,3,5,2,4,6,1]\n",
    "times=0\n",
    "performance=[]\n",
    "\n",
    "\n",
    "def sort(numbers):\n",
    "    count=0\n",
    "    answer = []\n",
    "    length = len(numbers)\n",
    "    for z in range(length):\n",
    "        for x in numbers:\n",
    "            for y in numbers:\n",
    "                if x>y:\n",
    "                    count=count+1\n",
    "                if count == len(numbers)-1:\n",
    "                    answer.append(x)\n",
    "                    numbers.remove(x)\n",
    "            count=0\n",
    "    print(answer)\n",
    "            \n",
    "def bubbleSort(numbers):\n",
    "    time1 = time.time()\n",
    "    n = len(numbers)\n",
    "    for i in range(n):\n",
    "        for j in range(0, n-i-1):\n",
    "            if numbers[j] > numbers[j+1]:\n",
    "                numbers[j], numbers[j+1] = numbers[j+1], numbers[j]\n",
    "    numbers.reverse()\n",
    "    times=time.time()-time1\n",
    "    return times\n",
    "            \n",
    "def timer():\n",
    "    for x in range(30):\n",
    "        randomlist = []\n",
    "        for i in range(0,10):\n",
    "            n = random.randint(1,30)\n",
    "            randomlist.append(n)\n",
    "        bubbleSort(randomlist)\n",
    "        performance.append([x,bubbleSort(numbers)])\n",
    "    print(performance)\n",
    "    \n",
    "timer()"
   ]
  },
  {
   "cell_type": "code",
   "execution_count": null,
   "id": "d679edcd",
   "metadata": {},
   "outputs": [],
   "source": []
  }
 ],
 "metadata": {
  "kernelspec": {
   "display_name": "Python 3 (ipykernel)",
   "language": "python",
   "name": "python3"
  },
  "language_info": {
   "codemirror_mode": {
    "name": "ipython",
    "version": 3
   },
   "file_extension": ".py",
   "mimetype": "text/x-python",
   "name": "python",
   "nbconvert_exporter": "python",
   "pygments_lexer": "ipython3",
   "version": "3.9.12"
  }
 },
 "nbformat": 4,
 "nbformat_minor": 5
}

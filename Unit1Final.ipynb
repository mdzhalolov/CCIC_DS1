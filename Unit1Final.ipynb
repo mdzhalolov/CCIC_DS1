{
 "cells": [
  {
   "cell_type": "code",
   "execution_count": null,
   "id": "f0c89663",
   "metadata": {},
   "outputs": [],
   "source": [
    "#Merge Sort using fundamentals\n",
    "\n",
    "def mergeSort(arr):\n",
    "    if len(arr) > 1:\n",
    "        mid = len(arr)//2\n",
    "        L = arr[:mid]\n",
    "        R = arr[mid:]\n",
    "        mergeSort(L)\n",
    "        mergeSort(R)\n",
    "        i = j = k = 0\n",
    "        while i < len(L) and j < len(R): \n",
    "            if L[i] <= R[j]: #if left is smaller, assign it to arr,and increment 1\n",
    "                arr[k] = L[i]\n",
    "                i += 1\n",
    "            else: #else right is smaller and add it to arr.\n",
    "                arr[k] = R[j]\n",
    "                j += 1\n",
    "            k += 1 #K is the index of the array which we are modifying.\n",
    "        while i < len(L): \n",
    "            arr[k] = L[i]\n",
    "            i += 1\n",
    "            k += 1\n",
    "                            #These two split While loops check outliers if they dont satisfy the first while loops.\n",
    "        while j < len(R):\n",
    "            arr[k] = R[j]\n",
    "            j += 1\n",
    "            k += 1\n",
    "\n",
    "arr = [10,9,8,7,6,5,4,3,2,1,0]\n",
    "print(arr)\n",
    "mergeSort(arr)\n",
    "print(arr)"
   ]
  }
 ],
 "metadata": {
  "kernelspec": {
   "display_name": "Python 3 (ipykernel)",
   "language": "python",
   "name": "python3"
  },
  "language_info": {
   "codemirror_mode": {
    "name": "ipython",
    "version": 3
   },
   "file_extension": ".py",
   "mimetype": "text/x-python",
   "name": "python",
   "nbconvert_exporter": "python",
   "pygments_lexer": "ipython3",
   "version": "3.9.12"
  }
 },
 "nbformat": 4,
 "nbformat_minor": 5
}

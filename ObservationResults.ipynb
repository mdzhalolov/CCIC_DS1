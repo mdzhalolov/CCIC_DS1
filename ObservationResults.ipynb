{
 "cells": [
  {
   "cell_type": "code",
   "execution_count": 13,
   "id": "242c1c2d",
   "metadata": {
    "scrolled": true
   },
   "outputs": [
    {
     "name": "stdout",
     "output_type": "stream",
     "text": [
      "Day 1 :\n",
      " Students With Uniforms: 13\n",
      " Students Without Uniforms: 3\n",
      " Total Students: 16\n",
      " Percentage: 0.1875\n",
      "Day 2 :\n",
      " Students With Uniforms: 15\n",
      " Students Without Uniforms: 2\n",
      " Total Students: 17\n",
      " Percentage: 0.1176\n"
     ]
    }
   ],
   "source": [
    "key = [\"Students With Uniforms:\", \"Students Without Uniforms:\", \"Total Students:\", \"Percentage:\"]\n",
    "uniforms =[[13, 3, 16, 0.1875],\n",
    "           [15,2,17,0.1176]]\n",
    "\n",
    "for y in uniforms:\n",
    "    print(\"Day\", uniforms.index(y)+1, \":\")\n",
    "    for x in uniforms[uniforms.index(y)]:\n",
    "        print(\"\", key[uniforms[uniforms.index(y)].index(x)], x)"
   ]
  },
  {
   "cell_type": "code",
   "execution_count": null,
   "id": "18d500bb",
   "metadata": {},
   "outputs": [],
   "source": []
  }
 ],
 "metadata": {
  "kernelspec": {
   "display_name": "Python 3 (ipykernel)",
   "language": "python",
   "name": "python3"
  },
  "language_info": {
   "codemirror_mode": {
    "name": "ipython",
    "version": 3
   },
   "file_extension": ".py",
   "mimetype": "text/x-python",
   "name": "python",
   "nbconvert_exporter": "python",
   "pygments_lexer": "ipython3",
   "version": "3.9.12"
  }
 },
 "nbformat": 4,
 "nbformat_minor": 5
}
